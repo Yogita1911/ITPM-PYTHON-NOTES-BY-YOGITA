{
 "cells": [
  {
   "cell_type": "markdown",
   "metadata": {},
   "source": [
    "****Abstraction in python*********\n",
    "\n",
    "Defn: Abstraction is a key concept in object-oriented programming (OOP) that involves hiding the complex implementation details of a system and exposing only the essential features to the user. This makes the system easier to use and maintain by focusing on what an object does rather than how it does it.\n",
    "                                     or\n",
    "Data abstraction is a programming (and design) technique that relies on the separation of interface and implementation.\n",
    "                                    or\n",
    "\n",
    "Data abstraction refers to providing only essential information to the outside world and hiding their background details, i.e., to represent the needed information in program without presenting the details                                   or .\n",
    "\n",
    " Abstraction means hiding the complexity and only showing the essential features of the obje                                   or ct.\n",
    "\n",
    " An abstract class can have both a normal method and an abstract method\n",
    "\n",
    " An abstract class cannot be instantiated, ie., we cannot create objects for the abstract class\n",
    "w\n",
    "\n",
    "Ex.1: When a user gets a phone call, he can only see the green button(To pickup the call) and red button(to decline the call). He cannot see the technicalities and the mechanism built behind this buttons because its none of his use.\n",
    "\n",
    "\n",
    "Ex.2: When we use a calculate,we just enter the operands(numbers which are operated to determine the result value). And just press the operator such as,\"+,-,*,/,%\".Suppose we press \"+\", the code which is written for addition function gets called.And all of this goes behind the scene. We can see only the numbers,operators & result value and not the code of the same. This is called abstraction.\n",
    "\n",
    "Abstract Classes:\n",
    "\n",
    "1) We cannot create the object of abstract class directly. These classes serve as a blueprint for other classes.\n",
    "2) They are defined using the abc (Abstract Base Classes) module in Python.\n",
    "3) Abstract classes can have one or more abstract methods (methods declared but not implemented).\n",
    "\n",
    "Abstract Methods:\n",
    "\n",
    "1) These are methods defined in an abstract class but lack implementation.\n",
    "2) Subclasses that are inherited from an abstract class must implement all abstract methods.\n",
    "\n",
    "Encapsulation:\n",
    "\n",
    "Often used alongside abstraction, encapsulation restricts access to certain components of an object to prevent unintended interference.\n"
   ]
  },
  {
   "cell_type": "code",
   "execution_count": null,
   "metadata": {
    "trusted": true
   },
   "outputs": [],
   "source": [
    "from abc import ABC, abstractmethod\n",
    "class BaseClass(ABC):  # create abstract class\n",
    "    @abstractmethod       # decorator\n",
    "    def method_1(self):    # Abstract method\n",
    "         #empty body\n",
    "         pass"
   ]
  },
  {
   "cell_type": "code",
   "execution_count": 1,
   "metadata": {
    "execution": {
     "iopub.execute_input": "2024-12-05T09:45:38.848655Z",
     "iopub.status.busy": "2024-12-05T09:45:38.847619Z",
     "iopub.status.idle": "2024-12-05T09:45:38.885978Z",
     "shell.execute_reply": "2024-12-05T09:45:38.884509Z",
     "shell.execute_reply.started": "2024-12-05T09:45:38.848606Z"
    },
    "trusted": true
   },
   "outputs": [
    {
     "name": "stdout",
     "output_type": "stream",
     "text": [
      "Area: 200\n",
      "Perimeter: 60\n"
     ]
    }
   ],
   "source": [
    "from abc import ABC, abstractmethod        # Importing module & decorator. \n",
    "\n",
    "# Abstract class\n",
    "class Shape(ABC):\n",
    "    \n",
    "    @abstractmethod                     # declaring abstract method with the help of decorator.\n",
    "    def area(self):\n",
    "        pass  # Abstract method\n",
    "\n",
    "    @abstractmethod\n",
    "    def perimeter(self):\n",
    "        pass  # Abstract method\n",
    "\n",
    "# Concrete class inheriting the abstract class\n",
    "class Rectangle(Shape):\n",
    "    def __init__(self, width, height):\n",
    "        self.width = width\n",
    "        self.height = height\n",
    "\n",
    "    def area(self):\n",
    "        return self.width * self.height\n",
    "\n",
    "    def perimeter(self):\n",
    "        return 2 * (self.width + self.height)\n",
    "\n",
    "# Instantiate concrete class\n",
    "rectangle = Rectangle(10, 20)\n",
    "print(f\"Area: {rectangle.area()}\")\n",
    "print(f\"Perimeter: {rectangle.perimeter()}\")\n"
   ]
  },
  {
   "cell_type": "code",
   "execution_count": 2,
   "metadata": {
    "execution": {
     "iopub.execute_input": "2024-12-05T10:25:55.923356Z",
     "iopub.status.busy": "2024-12-05T10:25:55.922770Z",
     "iopub.status.idle": "2024-12-05T10:25:55.936942Z",
     "shell.execute_reply": "2024-12-05T10:25:55.934972Z",
     "shell.execute_reply.started": "2024-12-05T10:25:55.923308Z"
    },
    "trusted": true
   },
   "outputs": [
    {
     "name": "stdout",
     "output_type": "stream",
     "text": [
      "The mileage is 30kmph\n",
      "The mileage is 27kmph \n",
      "The mileage is 25kmph \n",
      "The mileage is 24kmph \n"
     ]
    }
   ],
   "source": [
    "# abstract base class work   \n",
    "from abc import ABC, abstractmethod   \n",
    "class Car(ABC):   \n",
    "    def mileage(self):   \n",
    "        pass  \n",
    "  \n",
    "class Tesla(Car):   \n",
    "    def mileage(self):   \n",
    "        print(\"The mileage is 30kmph\")   \n",
    "class Suzuki(Car):   \n",
    "    def mileage(self):   \n",
    "        print(\"The mileage is 25kmph \")   \n",
    "class Duster(Car):   \n",
    "     def mileage(self):   \n",
    "          print(\"The mileage is 24kmph \")   \n",
    "  \n",
    "class Renault(Car):   \n",
    "    def mileage(self):   \n",
    "            print(\"The mileage is 27kmph \")   \n",
    "          \n",
    "# Driver code   \n",
    "t= Tesla ()   \n",
    "t.mileage()   \n",
    "  \n",
    "r = Renault()   \n",
    "r.mileage()   \n",
    "  \n",
    "s = Suzuki()   \n",
    "s.mileage()   \n",
    "d = Duster()   \n",
    "d.mileage()  \n"
   ]
  },
  {
   "cell_type": "markdown",
   "metadata": {},
   "source": [
    "***Why Use Abstraction?***\n",
    "\n",
    "1) Simplification: Users interact with simpler interfaces while the underlying complexity is hidden.\n",
    "2) Code Reusability: Abstract classes allow different subclasses to share common behavior.\n",
    "3) Improved Code Maintainability: Changes to implementation details do not affect how users interact with the system."
   ]
  },
  {
   "cell_type": "markdown",
   "metadata": {},
   "source": [
    "1. Purpose\n",
    "Abstraction:\n",
    "\n",
    "Focuses on hiding complexity by exposing only the essential features and behavior of an object.\n",
    "It is about defining \"what\" an object does without explaining \"how\" it does it.\n",
    "Example: A car interface only exposes the ability to \"start\" or \"stop,\" without detailing the internal engine mechanics.\n",
    "\n",
    "Encapsulation:\n",
    "\n",
    "Focuses on hiding the internal state and implementation details of an object, and restricting direct access to them.\n",
    "It protects the integrity of the object's state by controlling how data is accessed and modified.\n",
    "Example: The speed of a car is private and can only be accessed or modified via getter and setter methods.\n",
    "\n",
    "2. Level of Representation\n",
    "Abstraction is conceptual:\n",
    "\n",
    "It deals with the idea or functionality of an object.\n",
    "Achieved through mechanisms like abstract classes, interfaces, or APIs.\n",
    "\n",
    "Encapsulation is implementation-oriented:\n",
    "\n",
    "It deals with how the data and methods are packaged and controlled.\n",
    "Achieved by making fields private/protected and providing public methods to access them (getters and setters).\n",
    "\n",
    "3. Key Focus\n",
    "Abstraction:\n",
    "\n",
    "Focuses on hiding complexity by simplifying design.\n",
    "Aims at defining a contract (e.g., using interfaces or abstract classes).\n",
    "\n",
    "Encapsulation:\n",
    "\n",
    "Focuses on hiding details by restricting access.\n",
    "Aims at securing and organizing the code.\n"
   ]
  }
 ],
 "metadata": {
  "kaggle": {
   "accelerator": "none",
   "dataSources": [],
   "dockerImageVersionId": 30786,
   "isGpuEnabled": false,
   "isInternetEnabled": true,
   "language": "python",
   "sourceType": "notebook"
  },
  "kernelspec": {
   "display_name": "Python 3",
   "language": "python",
   "name": "python3"
  },
  "language_info": {
   "codemirror_mode": {
    "name": "ipython",
    "version": 3
   },
   "file_extension": ".py",
   "mimetype": "text/x-python",
   "name": "python",
   "nbconvert_exporter": "python",
   "pygments_lexer": "ipython3",
   "version": "3.10.14"
  }
 },
 "nbformat": 4,
 "nbformat_minor": 4
}
